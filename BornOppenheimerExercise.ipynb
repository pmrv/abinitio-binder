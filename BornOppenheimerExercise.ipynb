{
 "cells": [
  {
   "cell_type": "code",
   "execution_count": 84,
   "metadata": {},
   "outputs": [],
   "source": [
    "import numpy as np\n",
    "import matplotlib\n",
    "import matplotlib.pyplot as plt\n",
    "from numpy import linalg as LA\n",
    "%matplotlib inline"
   ]
  },
  {
   "cell_type": "code",
   "execution_count": 86,
   "metadata": {},
   "outputs": [],
   "source": [
    "def V(r, f = 1e-1):\n",
    "    \"\"\"\n",
    "    Coulomb potential between two unit charges of same sign in units of Hartree, \n",
    "    if r is in bohr radii.  The parameter smoothes the divergence of the potential in 1D.\"\"\"\n",
    "    return 1 / (f + abs(r))"
   ]
  },
  {
   "cell_type": "code",
   "execution_count": 87,
   "metadata": {},
   "outputs": [],
   "source": [
    "def make_H(grid):\n",
    "    \"\"\"\n",
    "    Create a Hamiltonian that describes a proton and an electron.\n",
    "    \"\"\"\n",
    "    \n",
    "    dx = grid[1] - grid[0]\n",
    "    size = len(grid)\n",
    "    \n",
    "    x1, x2 = np.meshgrid(grid, grid)\n",
    "    v = -V(x1 - x2)\n",
    "    \n",
    "    units = 0.5 # Ha = h_bar²/2m_e / r_0²\n",
    "    o = units / dx**2 * np.ones(size ** 2)\n",
    "    m_proton = 2000 # roughly in units of electron mass\n",
    "    H = np.diag((2 + 2 / m_proton) * o + v.flat, 0) + \\\n",
    "        - np.diag(o[1:], -1) \\\n",
    "        - np.diag(o[1:], +1) \\\n",
    "        - np.diag(o[n:] / m_proton, -n) \\\n",
    "        - np.diag(o[n:] / m_proton, +n)\n",
    "    \n",
    "    for i in range(n - 1, n**2 - 1, n):\n",
    "        H[i, i + 1] = 0\n",
    "        H[i + 1, i] = 0\n",
    "    \n",
    "    return H"
   ]
  },
  {
   "cell_type": "code",
   "execution_count": 88,
   "metadata": {},
   "outputs": [],
   "source": [
    "def solve(H):\n",
    "    e, v = LA.eig(H)\n",
    "    v = v[:, np.argsort(e)]\n",
    "    e = e[np.argsort(e)]\n",
    "    return e, v"
   ]
  },
  {
   "cell_type": "code",
   "execution_count": 89,
   "metadata": {},
   "outputs": [],
   "source": [
    "def solve2d(H):\n",
    "    e, v = solve(H)\n",
    "    n = int(np.sqrt(len(e)))\n",
    "    return e, v.T.reshape(-1, n, n)"
   ]
  },
  {
   "cell_type": "markdown",
   "metadata": {},
   "source": [
    "## Exercise 1\n",
    "\n",
    "Create a Hamiltonian for two electrons and a doubly charged ion in the center of the grid!  Your grid should have around ~50 points.  Examine the diagonal of the Hamiltonian with the command\n",
    "```python\n",
    "plt.matshow(np.diag(H).reshape(n, n))\n",
    "```\n",
    "(where `H` is the variable with Hamiltonian you created and `n` your grid size) and explain the features of the picture in terms of the parts of our system (i.e. one electron and one proton)!  What causes the positive and negative contributions to the Hamiltonian?"
   ]
  },
  {
   "cell_type": "markdown",
   "metadata": {},
   "source": [
    "## Exercise 2\n",
    "\n",
    "Solve the Hamiltonian and examine the energy.  Are there qualitative features that you can understand physically?  Can you understand the energy in terms of systems we've discussed so far?"
   ]
  },
  {
   "cell_type": "markdown",
   "metadata": {},
   "source": [
    "## Exercise 3\n",
    "\n",
    "Which parts of the dispersion are due the electron and which are due to the proton?  Write two functions that take a full wavefunction and return the probability amplitude of the electron and proton respectively.  Can you understand the order of the eigenstates of the full system in terms of the electronic and protonic excitations?"
   ]
  },
  {
   "cell_type": "markdown",
   "metadata": {},
   "source": [
    "## Exercise 4\n",
    "\n",
    "Implement the Born-Oppenheimer approximation by solving the one particle electronic Schrödinger equation for each possible position of the proton on your grid.  This gives you the electronic potential in which the proton moves, use it to solve the one particle Schrödinger equation for the proton!  Combine the wavefunctions from both solutions to the full wavefunctions with a product ansatz and compare to the exact solution!"
   ]
  },
  {
   "cell_type": "markdown",
   "metadata": {},
   "source": [
    "## Bonus\n",
    "\n",
    "Compute the average proton position and its variance for each electronic excitation!"
   ]
  }
 ],
 "metadata": {
  "kernelspec": {
   "display_name": "Python 3",
   "language": "python",
   "name": "python3"
  },
  "language_info": {
   "codemirror_mode": {
    "name": "ipython",
    "version": 3
   },
   "file_extension": ".py",
   "mimetype": "text/x-python",
   "name": "python",
   "nbconvert_exporter": "python",
   "pygments_lexer": "ipython3",
   "version": "3.8.1"
  }
 },
 "nbformat": 4,
 "nbformat_minor": 4
}
