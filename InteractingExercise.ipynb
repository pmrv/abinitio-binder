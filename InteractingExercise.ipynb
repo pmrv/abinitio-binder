{
 "cells": [
  {
   "cell_type": "code",
   "execution_count": 3,
   "metadata": {},
   "outputs": [],
   "source": [
    "import numpy as np\n",
    "import matplotlib\n",
    "import matplotlib.pyplot as plt\n",
    "from numpy import linalg as LA\n",
    "%matplotlib inline"
   ]
  },
  {
   "cell_type": "code",
   "execution_count": 4,
   "metadata": {},
   "outputs": [],
   "source": [
    "import scipy.sparse.linalg as SA\n",
    "import scipy.sparse as S"
   ]
  },
  {
   "cell_type": "code",
   "execution_count": 5,
   "metadata": {},
   "outputs": [],
   "source": [
    "def V(r, f = 1e-1):\n",
    "    \"\"\"\n",
    "    Coulomb potential between two unit charges of same sign in units of Hartree, \n",
    "    if r is in bohr radii.  The parameter smoothes the divergence of the potential in 1D.\"\"\"\n",
    "    return 1 / (f + abs(r))"
   ]
  },
  {
   "cell_type": "code",
   "execution_count": 1,
   "metadata": {},
   "outputs": [],
   "source": [
    "def build_H2(grid, ions = []):\n",
    "    dx = grid[1] - grid[0]\n",
    "    size = len(grid)\n",
    "    \n",
    "    x1, x2 = np.meshgrid(grid, grid)\n",
    "    v = V(x1 - x2)\n",
    "    for Z, k in ions:\n",
    "        v += -Z * (V(x1 - k) + V(x2 - k))\n",
    "    \n",
    "    units = 0.5 # Ha = h_bar²/2m_e / r_0²\n",
    "    o = units / dx**2 * np.ones(size ** 2)\n",
    "    H = np.diag(4 * o + v.flat, 0) + \\\n",
    "        - np.diag(o[1:], -1) \\\n",
    "        - np.diag(o[1:], +1) \\\n",
    "        - np.diag(o[n:], -n) \\\n",
    "        - np.diag(o[n:], +n)\n",
    "    \n",
    "    for i in range(n - 1, n**2 - 1, n):\n",
    "        H[i, i + 1] = 0\n",
    "        H[i + 1, i] = 0\n",
    "    \n",
    "    return H"
   ]
  },
  {
   "cell_type": "code",
   "execution_count": 7,
   "metadata": {},
   "outputs": [],
   "source": [
    "def solve(H):\n",
    "    e, v = LA.eig(H)\n",
    "    v = v[:, np.argsort(e)]\n",
    "    e = e[np.argsort(e)]\n",
    "    return e, v"
   ]
  },
  {
   "cell_type": "code",
   "execution_count": 8,
   "metadata": {},
   "outputs": [],
   "source": [
    "def solve2d(H):\n",
    "    e, v = solve(H)\n",
    "    n = int(np.sqrt(len(e)))\n",
    "    return e, v.T.reshape(-1, n, n)"
   ]
  }
 ],
 "metadata": {
  "kernelspec": {
   "display_name": "Python 3",
   "language": "python",
   "name": "python3"
  },
  "language_info": {
   "codemirror_mode": {
    "name": "ipython",
    "version": 3
   },
   "file_extension": ".py",
   "mimetype": "text/x-python",
   "name": "python",
   "nbconvert_exporter": "python",
   "pygments_lexer": "ipython3",
   "version": "3.8.1"
  }
 },
 "nbformat": 4,
 "nbformat_minor": 4
}
